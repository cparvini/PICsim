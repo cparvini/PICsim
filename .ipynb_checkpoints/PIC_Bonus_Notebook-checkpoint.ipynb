{
 "metadata": {
  "name": "",
  "signature": "sha256:449cdf420a491ea3ad77484cf970898d175502c060e56703fe8d638975af0357"
 },
 "nbformat": 3,
 "nbformat_minor": 0,
 "worksheets": [
  {
   "cells": [
    {
     "cell_type": "heading",
     "level": 5,
     "metadata": {},
     "source": [
      "Bonus Notebook: Created by Cameron Parvini"
     ]
    },
    {
     "cell_type": "heading",
     "level": 1,
     "metadata": {},
     "source": [
      "Particle-In-Cell Plasma Sim"
     ]
    },
    {
     "cell_type": "markdown",
     "metadata": {},
     "source": [
      "Hello, and welcome back! Today we will be diving headfirst into a mind-bending application of the material covered throughout modules 1-4. Before we begin, a caveat: the simulation that we are going to create will not be a <i>fully-adaptive</i> PIC setup; for the sake of time (and not to spoil your possible thesis!) we will be making a number of simplifying assumptions. But more on all of this later, for now, let's get acquainted with the problem."
     ]
    },
    {
     "cell_type": "markdown",
     "metadata": {},
     "source": [
      "In the field of Plasma Physics, there are a number of incredibly complex phsyical interactions which, to be truthful, aren't fully explained (or, at the very least understood) by modern theories. Because of this, a number of situations arise where visualizing the reaction of particles in a plasma to various stimuli can be difficult, and at worst completely counter-intuitive! This is where the importance of simulations is revealed: in helping modern science process and interpret exactly <i>what the physics says should happen</i> . After all, how can we confirm our results if we can't compare them to anything?"
     ]
    },
    {
     "cell_type": "markdown",
     "metadata": {},
     "source": [
      "A common method for simulating the motion of particles is the aptly-named \"Particle in Cell\" (PIC) technique, which uses a macro-particle focus on a discrete grid to calculate the problem variables. Because plasma is made up of a mixture of ions, electrons, and neutrals, it is easiest to model the reaction of each species to the specific situation being studied. In most cases, the consideration of magnetic or electric fields can complicate the calculations involved. These fields not only set the particles in motion due to their varied charge (effecting the velocities), but they also vary in strength with the location of each particle within a volume (the particles effect the fields in turn). See now why we can't just ignore the field equations? That's where all of the <b>interesting</b> physics happens! Before getting too bogged down in the minutia of the problem, the first step is to start simple."
     ]
    },
    {
     "cell_type": "heading",
     "level": 2,
     "metadata": {},
     "source": [
      "The Fundemental Physics"
     ]
    },
    {
     "cell_type": "markdown",
     "metadata": {},
     "source": [
      "In order to calculate the motion of particles in our test volume, we need to know the equation governing their motion! This is where the all-important <i>Lorentz Force</i> comes into play:"
     ]
    },
    {
     "cell_type": "markdown",
     "metadata": {},
     "source": [
      "\\begin{align} \\vec{\\mathbf{F}} =\\, q (\\vec{E} + \\vec{v} \\times \\vec{B}) \\end{align}"
     ]
    },
    {
     "cell_type": "markdown",
     "metadata": {},
     "source": [
      "Woah, hey, no one said anything about linear algebra coming in here! Don't let the thought of having to do it by hand intimidate you, that's just what the equations want! Ignoring the cross produt for now (we'll use some awesome scipy built-ins to take care of our linear algebra woes), we see that the electric and magnetic fields both need to be known before we try to move our particles! Well that's useful, but unless you happen to have any relationships hiding in your pocket, this is just a fancy equation that we can't use. Well, as it happens, we do have a couple more from basic physics! First, according to kinematics and Newton's Second Law:"
     ]
    },
    {
     "cell_type": "markdown",
     "metadata": {},
     "source": [
      "\\begin{align}\n",
      "\\frac{d{\\vec{x}}}{d{t}} =\\, \\vec{v} \\\\\n",
      "\\vec{F} =\\, ma\n",
      "\\end{align}"
     ]
    },
    {
     "cell_type": "markdown",
     "metadata": {},
     "source": [
      "We're all aware of these relations. Now, let's rearrange Newton's Second Law for acceleration, and then replace $\\vec{F}$ with the force from a static electric field: "
     ]
    },
    {
     "cell_type": "markdown",
     "metadata": {},
     "source": [
      "\\begin{align}\n",
      "\\frac{d{\\vec{v}}}{d{t}} =\\, \\frac{q}{m}(\\vec{E} + \\vec{v}\\times\\vec{B}) \\\\\n",
      "\\end{align}"
     ]
    },
    {
     "cell_type": "markdown",
     "metadata": {},
     "source": [
      "where <i>q</i> is the charge of a given particle, and <i>m</i> is the given mass of the particle adjusted for the charge (i.e. with the mass of an electron missing for the positively charged ion). Now we've got something we can use...how about a relationship to calculate $\\vec{E}$? From the definition of the electric potential ($\\phi$) and charge density ($\\rho$):"
     ]
    },
    {
     "cell_type": "markdown",
     "metadata": {},
     "source": [
      "\\begin{align}\n",
      "\\vec{E} =\\, -\\nabla \\phi \\\\\n",
      "\\nabla^2 \\phi =\\, \\frac{\\rho}{\\epsilon _0} \\\\\n",
      "\\rho =\\, e (Z_i n_i - n_e)\n",
      "\\end{align}"
     ]
    },
    {
     "cell_type": "markdown",
     "metadata": {},
     "source": [
      "Now it looks like we have enough to start looking at how to actually <i>solve</i> a problem! In this case, <i>$Z_i$</i> is the average charge value of the ion, <i>e</i> is the charge of an electron, <i>$n_i$</i> is the number density of the ions (i.e. the number of ions per unit length), and similarly <i>$n_e$</i> is the electron number density. With all these equations in mind, it's <i>finally</i> time to start approaching the problem. "
     ]
    },
    {
     "cell_type": "heading",
     "level": 2,
     "metadata": {},
     "source": [
      "Problem Statement"
     ]
    },
    {
     "cell_type": "markdown",
     "metadata": {},
     "source": [
      "Let's consider a group of particles consisting of half electrons, and the other half Helium ions ($He^+$). We'll say that the electrons should be given an initial velocity that is randomly generated on the order of $10^3 \\frac{m}{s}$, and the larger ions are given a similarly random intial velocity of ~$10^5 \\frac{m}{s}$. These particles are subjected constantly to <i>both</i> $\\vec{E}$ and $\\vec{B}$ fields in different directions. We wish to simulate their motion in the fields for 100 time steps. Listing the conditions for reference:"
     ]
    },
    {
     "cell_type": "markdown",
     "metadata": {},
     "source": [
      "$$number\\ of\\ particles,\\ n\\ =\\ 20\\\\\n",
      "number\\ of\\ time\\ steps,\\ nt\\ =\\ 100\\\\\n",
      "initial\\ ion\\ velocity,\\ v_{i,ion}\\ =\\ 100\\\\\n",
      "initial\\ electron\\ velocity,\\ v_{i,e}\\ =\\ 100\\\\\n",
      "\\vec{B_i}\\ =\\ 0 \\hat{i} + 0 \\hat{j} + 0.1 \\hat{k}\\ [T]\\\\\n",
      "\\vec{E_i}\\ =\\ 1000 \\hat{i} + 0 \\hat{j} + 0 \\hat{k}\\ [\\frac{V}{m}]$$"
     ]
    },
    {
     "cell_type": "markdown",
     "metadata": {},
     "source": [
      "Right, now, how do we go about solving something like this using the PIC setup? Woah there tiger, we need to make a couple assumptions first! First, setting up a working PIC requires that we follow the four steps: intialize, loop, cleanup, and output. Let's work through the first step (which, arguably, is the bulk of the problem). Secondly, for now, we're actually going to ignore the change in $\\vec{B}$ between steps because the charges we're dealing with are so small, the changes to such a large static field are essentially negligable. Not to give you a peek too far ahead, but let's import all of the libraries that we'll need for the math and animating:"
     ]
    },
    {
     "cell_type": "code",
     "collapsed": false,
     "input": [
      "%matplotlib inline\n",
      "import numpy as np\n",
      "import pylab\n",
      "import random\n",
      "sympy.init_printing()\n",
      "\n",
      "import matplotlib.pyplot as plt\n",
      "from mpl_toolkits.mplot3d.axes3d import Axes3D\n",
      "from matplotlib import animation\n",
      "from JSAnimation.IPython_display import display_animation"
     ],
     "language": "python",
     "metadata": {},
     "outputs": []
    },
    {
     "cell_type": "code",
     "collapsed": false,
     "input": [
      "def animateAll(frame):\n",
      "        x = (loc_all[0,:n/2,frame]-L[0])\n",
      "        y = (loc_all[1,:n/2,frame]-L[1])\n",
      "        z = (loc_all[2,:n/2,frame]-L[2])\n",
      "        ax.scatter(x,y,z,c='b',marker='o')\n",
      "        x = (loc_all[0,n/2:,frame]-L[0])\n",
      "        y = (loc_all[1,n/2:,frame]-L[1])\n",
      "        z = (loc_all[2,n/2:,frame]-L[2])\n",
      "        ax.scatter(x,y,z,c='r',marker='o')\n",
      "        \n",
      "def initAll():\n",
      "    ax.scatter([],[],[],c='b',marker='o')\n",
      "    ax.scatter([],[],[],c='r',marker='o')"
     ],
     "language": "python",
     "metadata": {},
     "outputs": []
    },
    {
     "cell_type": "markdown",
     "metadata": {},
     "source": [
      "All that the new animate functions do is accept a different plot type, tell the animator what to wipe the screen and replace it with each time iteration, and finally grab the proper cartesian data for each particle through time (then scatter ions and electrons separately). Don't worry about complex animation settings for now, just know that matplotlib animation can get a lot more complicated! We'll be using numpy to do most of our matrix operations and linear algebra, random for the initial velocities, then pylab, matplotlib, and the same old animation functions for setting up and rendering a 3D plot through time! Nervous? Don't be, but get ready to think in three (or more) dimensions! Let's begin by creating a custom function that will give us a grid to work with, and some useful values for later:"
     ]
    },
    {
     "cell_type": "code",
     "collapsed": false,
     "input": [
      "def create_grid(L,d,x_i,n,nt):\n",
      "    \n",
      "    \"\"\" Creates a discrete grid based on our desired length and step size,\n",
      "        then also initializes our location storage matrix and calculates the number\n",
      "        of grid points in the directional arrays.\n",
      "    \n",
      "    Parameters\n",
      "    ----------\n",
      "    L      : array of floats\n",
      "            Desired distances from origin to the edge of the cube in each direction\n",
      "    d      : float\n",
      "            Discrete grid step size\n",
      "    x_i    : float\n",
      "            Initial position of particles in cartesian coordinates\n",
      "    n      : int\n",
      "            Number of particles\n",
      "    nt     : int\n",
      "            Number of time steps\n",
      "    \n",
      "    Returns\n",
      "    -------\n",
      "    x,y,z        : arrays of floats\n",
      "                  Arrays containing all of the discrete grid locations and their\n",
      "                  true cartesian value\n",
      "    loc          : array of floats\n",
      "                  Storage matrix for the (x,y,z) location (0th dimension) for each \n",
      "                  particle (1st dimension)\n",
      "    nx,ny,nz     : ints\n",
      "                  Number of grid points in each direction\n",
      "    X,Y,Z        : Coordinate Matrices of floats \n",
      "                  3D matrices (size nx,ny,nz) containing all of the discrete grid \n",
      "                  points and their respective x, y, or z value. Allows for conversion\n",
      "                  from index number to grid value.\n",
      "    \"\"\"\n",
      "    \n",
      "    x = np.arange(-L[0],L[0],d)\n",
      "    y = np.arange(-L[1],L[1],d)\n",
      "    z = np.arange(-L[2],L[2],d)\n",
      "    X,Y,Z = np.meshgrid(x,y,z)\n",
      "    loc = np.zeros((3,n,nt))\n",
      "    loc[:,:,0] = x_i[:,:]\n",
      "    nx = int(2*L[0]/d)\n",
      "    ny = int(2*L[1]/d)\n",
      "    nz = int(2*L[2]/d)\n",
      "    \n",
      "    return x, y, z, loc, nx, ny, nz, X, Y, Z"
     ],
     "language": "python",
     "metadata": {},
     "outputs": []
    },
    {
     "cell_type": "markdown",
     "metadata": {},
     "source": [
      "Great! Now we have plenty of tools to reference and save the locations of each particle through time. So far the only new tool we've used is np.meshgrid, which you can try out for yourself! It will return a matrix given Nd number of inputs referring to every permutation of the arrays. This is a very powerful tool, but it can be <b>very</b> computationally expensive to move into 4th, 5th, and more dimensions (not to mension mind-bending!), because you'll be exponentially increasing the overall number of permutations. Remember, your computer needs memory to run effectively...be sure to keep track of it!"
     ]
    },
    {
     "cell_type": "markdown",
     "metadata": {},
     "source": [
      "Now, let's take care of that intial velocity vector! We love defining equations, don't we?"
     ]
    },
    {
     "cell_type": "code",
     "collapsed": false,
     "input": [
      "def initial_v(n):\n",
      "    \n",
      "    \"\"\" Creates randomized initial velocities for ions and electrons separately \n",
      "        based on the desired velocity ranges.\n",
      "    \n",
      "    Parameters\n",
      "    ----------\n",
      "    n      : int\n",
      "            Number of particles\n",
      "   \n",
      "    Returns\n",
      "    -------\n",
      "    v_i    : Matrix of floats \n",
      "            Matrix that stores the cartesian velocity components (0th dimension) for\n",
      "            each particle (1st dimension)\n",
      "    \"\"\"\n",
      "    \n",
      "    v_i = np.zeros((3,n))\n",
      "    \n",
      "    for i in range(0,n/2-1):\n",
      "        v_i[0,i] = random.randrange(1e5,5e5)*random.choice([-1,1]) # [m/s]\n",
      "        v_i[1,i] = random.randrange(1e5,5e5)*random.choice([-1,1]) # [m/s]\n",
      "        v_i[2,i] = random.randrange(1e5,5e5)*random.choice([-1,1]) # [m/s]\n",
      "    \n",
      "    for i in range(n/2,n-1):\n",
      "        v_i[0,i] = random.randrange(1e3,5e3)*random.choice([-1,1]) # [m/s]\n",
      "        v_i[1,i] = random.randrange(1e3,5e3)*random.choice([-1,1]) # [m/s]\n",
      "        v_i[2,i] = random.randrange(1e3,5e3)*random.choice([-1,1]) # [m/s]\n",
      "    \n",
      "    return v_i"
     ],
     "language": "python",
     "metadata": {},
     "outputs": []
    },
    {
     "cell_type": "markdown",
     "metadata": {},
     "source": [
      "The randrange function can be especially useful, but if you're trying to create a velocity in a truly random direction, you need to include the possibility for negative values! That's where random.choice comes in, allowing us to randomly select a value from the given list.\n",
      "Great! Now we've got our animations set, initial grid, and velocities! Can we go home yet? Not likely, because now we come to the meatiest functions of the day where we actually do \"the stuff\"!\n",
      "Before we dive headfirst into writing, we should do a bit more math on our original equations (remember, about 10 cells ago?). Luckily, the Poisson's equation for $\\phi$ doesn't contain a time derivative, so all we need to do is rearrange everything based on the cartesian location! But oh no...three dimensions? Come on, believe in yourself! Try to get the central difference for the second derivative, like we had to do in module 4, just in all dimensions this time!"
     ]
    },
    {
     "cell_type": "markdown",
     "metadata": {},
     "source": [
      "\\begin{align}\n",
      "\\nabla^2 \\phi &= \\frac{\\vec{\\rho}}{\\epsilon _0} \\\\\n",
      "\\frac{d\\phi}{dx} + \\frac{d\\phi}{dy} + \\frac{d\\phi}{dz} &= ... \\\\\n",
      "\\frac{\\phi_{i-1,j,k}-2\\phi_{i,j,k}+\\phi_{i+1,j,k}}{\\Delta x^2} + ... &= ...\\\\ \\\\ \\\\\n",
      "\\end{align}\n",
      "Now that we have that discretized, let's simplify to find our desired quantity...\n",
      "$$\n",
      "\\phi_{i,j,k} = \\frac{\\Delta x^2 \\Delta y^2 \\Delta z^2}{2(\\Delta y^2\\Delta z^2 + \\Delta x^2\\Delta z^2 + \\Delta x^2\\Delta y^2)} * ... \\\\\n",
      "[ \\frac{\\vec{\\rho}}{\\epsilon _0} + \\frac{\\phi_{i-1,j,k}+\\phi_{i+1,j,k}}{\\Delta x^2} + ... ]\n",
      "$$\n",
      "While we're at it, how about discretizing equation 4 above so we can solve for the velocity at the next time step? No? Too bad!\n",
      "\\begin{align}\n",
      "\\frac{d{\\vec{v}}}{d{t}} &= \\frac{q}{m}(\\vec{E} + \\vec{v}\\times\\vec{B}) \\\\\n",
      "\\frac{v^{n+1} - v^{n}}{\\Delta t} &= ... \\\\\n",
      "v^{n+1} &= \\frac{q \\Delta t}{m}(\\vec{E} + \\vec{v}\\times\\vec{B}) + v^{n} \n",
      "\\end{align}"
     ]
    },
    {
     "cell_type": "markdown",
     "metadata": {},
     "source": [
      "Mathematical! Now we have enough info to put it all together. Let's start by talking a bit of logic before showing you how <i>we</i> implemented all that math. First, we'll need to be sure to bring in all the values we need to solve. This means that our function will need to take in the initial velocity for all particles, then the time step, the number of time steps, the mass of all particles, and additionally an average charge number for the ions."
     ]
    },
    {
     "cell_type": "markdown",
     "metadata": {},
     "source": [
      "It is generally good practice to leave the original matrices un-altered for debugging purposes, so making a local copy of the velocity matrix (storing all the values for time, remember, so we can animate!), the location matrix (similarly for all time), and writing the initial velocities and positions to each of them is reccommended.\n",
      "Afterwards, we're going to need to store the $\\vec{E}$ and $\\vec{B}$ values for <i>each</i> grid point, which means separate matrices for each direction, each containing the x, y, or z component at each of those points! Now we're starting to get into some <b>huge</b> indexing, and it must be plainly stated that the solution we have found is definitely <i>not</i> the only (or even the best) way of doing things. It's just the way our minds work through the problem! With all of that being said, let's go ahead and pull back the curtain on our big function:"
     ]
    },
    {
     "cell_type": "code",
     "collapsed": false,
     "input": [
      "def PICsimAll(v_i,dt,nt,m,Zi):\n",
      "     \n",
      "    \"\"\" Takes in the intial conditions of the problem to provide the velocity and \n",
      "        location of every particle for each time step.\n",
      "    \n",
      "    Parameters\n",
      "    ----------\n",
      "    v_i    : Matrix of floats \n",
      "            Matrix that stores the cartesian initial velocity components \n",
      "            (0th dimension) for each particle (1st dimension)\n",
      "    dt     : Array of float\n",
      "            Time step for each particle type\n",
      "    nt     : int\n",
      "            Number of time steps desired\n",
      "    m      : Array of float\n",
      "            Mass of each particle species in the simulation\n",
      "    Zi     : float\n",
      "            Average charge number for the ion species\n",
      "   \n",
      "    Returns\n",
      "    -------\n",
      "    vn     : Matrix of floats \n",
      "            Matrix that stores the cartesian velocity components (0th dimension) for\n",
      "            each particle (1st dimension) throughout all of time (2nd dimension)\n",
      "    loca   : Matrix of floats\n",
      "            Matrix that stores the cartesian location (0th dimension) for each \n",
      "            particle (1st dimension) throughout all of time (2nd dimension)\n",
      "    \"\"\"\n",
      "    \n",
      "    # Create our local holder copies\n",
      "    \n",
      "    vn = np.zeros((3,n,nt))\n",
      "    loca = np.zeros_like(vn)\n",
      "    rho = np.zeros_like(vn)         # This will use the number density to hold rho\n",
      "    vn[:,:,0] = v_i[:,:]\n",
      "    pot = np.zeros((nx, ny, nz))\n",
      "    N = np.zeros_like(X)            # This will hold the number of particles in each index \n",
      "    pd = np.zeros_like(pot)         # Our holder matrix for recalculating phi\n",
      "    Exi = np.ones_like(X)*1000      # These are the initial cartesian field holders\n",
      "    Eyi = np.zeros_like(Y)\n",
      "    Ezi = np.zeros_like(Z)\n",
      "    Bxi = np.zeros_like(X)\n",
      "    Byi = np.zeros_like(Y)\n",
      "    Bzi = np.ones_like(Z)*0.1\n",
      "    \n",
      "    # To simplify the math we're about to do...\n",
      "    den = 2*(dy**2*dz**2+dx**2*dz**2+dx**2*dy**2)\n",
      "    \n",
      "    for i in range(1,nt):\n",
      "        \n",
      "        # Get the new velocities\n",
      "        vn[:,:,i] = intEOMAll(vn[:,:,i-1],m,i,dt,Exi,Eyi,Ezi,Bxi,Byi,Bzi,loca[:,:,i])\n",
      "        \n",
      "        # Use the old velocities to get the current location\n",
      "        loca[:,:n/2-1,i] = vn[:,:n/2-1,i-1]*dt[0]\n",
      "        loca[:,n/2:,i] = vn[:,n/2:,i-1]*dt[1]\n",
      "        \n",
      "        # Use the current locations, find their nearest index\n",
      "        locInd = loca[:,:,i].astype(int)\n",
      "        \n",
      "        # Fancy slicing to increment by the effective charge\n",
      "        N[locInd[:,:n/2-1]] += -1.\n",
      "        N[locInd[:,n/2:]] += Zi*1.\n",
      "        \n",
      "        # Find rho!\n",
      "        rho = N * e / d\n",
      "        \n",
      "        # Calculate the potential for all interior points given the current rho,\n",
      "        # so that you can set the stage for the next time iteration\n",
      "        pot[1:nx-1,1:ny-1,1:nz-1] = ( dx**2*dy**2*dz**2/(eps*den)*\\\n",
      "                                     (rho[1:nx-1,1:ny-1,1:nz-1]) +\\\n",
      "            dy**2*dz**2/(den)*(pd[2:nx,1:ny-1,1:nz-1]+pd[0:nx-2,1:ny-1,1:nz-1])+\\\n",
      "            dx**2*dz**2/(den)*(pd[1:nx-1,2:ny,1:nz-1]+pd[1:nx-1,0:ny-2,1:nz-1])+\\\n",
      "            dx**2*dy**2/(den)*(pd[1:nx-1,1:ny-1,2:nz]+pd[1:nx-1,1:ny-1,0:nz-2]) )\n",
      "        \n",
      "        # No boundary conditions specified, eh? Why not Neumann?\n",
      "        pot[0,:,:] = pot[1,:,:]\n",
      "        pot[nx-1,:,:] = pot[nx-2,:,:]\n",
      "        pot[:,0,:] = pot[:,1,:]\n",
      "        pot[:,ny-1,:] = pot[:,ny-2,:]\n",
      "        pot[:,:,0] = pot[0,:,1]\n",
      "        pot[:,:,nz-1] = pot[:,:,nz-2]\n",
      "        \n",
      "        # Finally, recalculate the Electric Field for the next time step\n",
      "        Exi[1:nx-1,1:ny-1,1:nz-1] = -(pot[2:nx,1:ny-1,1:nz-1]-\\\n",
      "                                    pot[0:nx-2,1:ny-1,1:nz-1])/(2*dx)\n",
      "        Eyi[1:nx-1,1:ny-1,1:nz-1] = -(pot[1:nx-1,2:ny,1:nz-1]-\\\n",
      "                                    pot[1:nx-1,0:ny-2,1:nz-1])/(2*dy)\n",
      "        Ezi[1:nx-1,1:ny-1,1:nz-1] = -(pot[1:nx-1,1:ny-1,2:nz]-\\\n",
      "                                    pot[1:nx-1,1:ny-1,0:nz-2])/(2*dz)\n",
      "                    \n",
      "    return vn, loca"
     ],
     "language": "python",
     "metadata": {},
     "outputs": []
    },
    {
     "cell_type": "markdown",
     "metadata": {},
     "source": [
      "Are you dizzy yet? Well if you followed that closely, you probably saw there isn't really anything too complicated there! It's all just algebra and array slicing, and by now you're already a master.But lo: there is a function in there yet unseen! To save us from having that function filled to the <i>brim</i> with code, we wrote a nice little subfunction to help us calculate the velocities at each time step. Take a look below:"
     ]
    },
    {
     "cell_type": "code",
     "collapsed": false,
     "input": [
      "def intEOMAll(v,m,t,dt,Exi,Eyi,Ezi,Bxi,Byi,Bzi,loca):\n",
      "    \n",
      "    \"\"\" Takes in the intial conditions of the problem to provide the velocity at the \n",
      "        next time step\n",
      "    \n",
      "    Parameters\n",
      "    ----------\n",
      "    v      : Matrix of floats \n",
      "            Matrix that stores the cartesian velocity components from the previous \n",
      "            step (0th dimension) for each particle (1st dimension)\n",
      "    m      : Array of float\n",
      "            Mass of each particle species in the simulation\n",
      "    t      : int\n",
      "            Current time step\n",
      "    dt     : Array of float\n",
      "            Time step for each particle type\n",
      "    Exi, \n",
      "    Eyi, \n",
      "    Ezi     : 3D Matrix of floats\n",
      "            Cartesian electric field components for each grid point at the current\n",
      "            time step\n",
      "    Bxi, \n",
      "    Byi, \n",
      "    Bzi     : 3D Matrix of floats\n",
      "            Cartesian magnetic field components for each grid point at the current\n",
      "            time step\n",
      "    loca   : Matrix of floats\n",
      "            Matrix that contains the cartesian location (0th dimension) for each \n",
      "            particle (1st dimension) at the current time step\n",
      "   \n",
      "    Returns\n",
      "    -------\n",
      "    v2     : Matrix of floats \n",
      "            Matrix that contains the cartesian velocity components (0th dimension) \n",
      "            for each particle (1st dimension) at the next time step\n",
      "    \"\"\"\n",
      "    \n",
      "    v2 = np.zeros_like(v)\n",
      "    \n",
      "    for i in range(0,n):\n",
      "        \n",
      "        # We have to grab the right m, q, and dt values for each species\n",
      "        if i < n/2:\n",
      "            q = -e\n",
      "            mass = m[0]\n",
      "            dthold = dt[0]\n",
      "        else:\n",
      "            q = e\n",
      "            mass = m[1]\n",
      "            dthold = dt[0]\n",
      "\n",
      "        # Find the current E and B field values according to the particle's location\n",
      "        # from the cartesian component matrices for each particle individually. \n",
      "        # Notice that there is no need to save these values between steps, so we\n",
      "        # need only use holder arrays!\n",
      "        \n",
      "        Ehold = np.array([Exi[loca[0,i],loca[1,i],loca[2,i]],\\\n",
      "                              Eyi[loca[0,i],loca[1,i],loca[2,i]],\\\n",
      "                                  Ezi[loca[0,i],loca[1,i],loca[2,i]]])\n",
      "        Bhold = np.array([Bxi[loca[0,i],loca[1,i],loca[2,i]],\\\n",
      "                              Byi[loca[0,i],loca[1,i],loca[2,i]],\\\n",
      "                                  Bzi[loca[0,i],loca[1,i],loca[2,i]]])\n",
      "        \n",
      "        # This is all to build up to the final line, equations 1 & 4 discretized \n",
      "        # and solved for the next velocity. Notice the use of our handy built-in\n",
      "        # linear algebra functions from NumPy:\n",
      "        v2[:,i] = (Ehold + np.cross(v[:,i],Bhold))*dthold*q/mass + v[:,i]\n",
      "    \n",
      "    return v2"
     ],
     "language": "python",
     "metadata": {},
     "outputs": []
    },
    {
     "cell_type": "markdown",
     "metadata": {},
     "source": [
      "Wow. Well, we're finally here: the utilization step! All we need to do is grab some commonly known values from the corners of the internet, feed our beastly equation, and then animate it all! Let's get this going:"
     ]
    },
    {
     "cell_type": "code",
     "collapsed": false,
     "input": [
      "# Initial Conditions\n",
      "n = 20 # [particles]\n",
      "dt_e = 2.75e-11 # [s]\n",
      "dt_i = 5.0e-5 # [s]\n",
      "dt = np.array([dt_e,dt_i])\n",
      "nt = 100 # [steps]\n",
      "m_e = 9.1094e-31 # [kg]\n",
      "m_He = 1.6605e-27 # [kg]\n",
      "Zi = 1.0 # [Average ion charge number, He]\n",
      "m_tot = np.array([m_e,m_He])\n",
      "e = 1.609e-19 # [C]\n",
      "eps = 8.854e-12 # [F/m]\n",
      "\n",
      "# Grid Info\n",
      "dx = dy = dz = d = 5.0e-5 # [m]\n",
      "L = 50.*np.array([d, d, d]) # [m]\n",
      "x_i = np.zeros((3,n)) # [m]\n",
      "x, y, z, loc, nx, ny, nz, X, Y, Z = create_grid(L,d,x_i,n,nt)\n",
      "\n",
      "# Begin Math\n",
      "v_i_tot = initial_v(n)\n",
      "vt_all,loc_all = PICsimAll(v_i_tot,dt,nt,m_tot,Zi)"
     ],
     "language": "python",
     "metadata": {},
     "outputs": []
    },
    {
     "cell_type": "code",
     "collapsed": false,
     "input": [
      "# Animate!\n",
      "fig = pylab.figure(figsize=(8,6));\n",
      "ax = Axes3D(fig)\n",
      "ax.view_init(45,45)\n",
      "\n",
      "view = loc_all\n",
      "ax.set_xlim((np.ndarray.min(view[0,:,:]), np.ndarray.max(view[0,:,:])))\n",
      "ax.set_ylim((np.ndarray.min(view[1,:,:]), np.ndarray.max(view[1,:,:])))\n",
      "ax.set_zlim((np.ndarray.min(view[2,:,:]), np.ndarray.max(view[2,:,:])))\n",
      "ax.set_xlabel(r'X Position [m]')\n",
      "ax.set_ylabel(r'Y Position [m]')\n",
      "ax.set_zlabel(r'Z Position [m]')\n",
      "ax.set_title(r'20 Particle Simulation for Problem 3')\n",
      "\n",
      "anim = animation.FuncAnimation(fig, animateAll, nt,\\\n",
      "                               init_func = initAll, interval=50)\n",
      "display_animation(anim, default_mode='loop')"
     ],
     "language": "python",
     "metadata": {},
     "outputs": []
    },
    {
     "cell_type": "heading",
     "level": 3,
     "metadata": {},
     "source": [
      "Dig Deeper"
     ]
    },
    {
     "cell_type": "markdown",
     "metadata": {},
     "source": [
      "Isn't it beautiful? Now not to glaze over the pretty 3D animation, but there are several unanswered points. First of all, why did we have to use two different time steps for each particule species? (HINT: look at what the red colored ions are doing in the animation...they're like a horse on the freeway!)"
     ]
    },
    {
     "cell_type": "markdown",
     "metadata": {},
     "source": [
      "Second, what happens if you run the program for more time steps? Start with small increments (10? 20?) and note when you start to get errors. What is happening when you get the index referencing error from the portion of PICsimAll() that tries to write the particle location to N? Congratulations on making it to the end! Until next time..."
     ]
    },
    {
     "cell_type": "heading",
     "level": 2,
     "metadata": {},
     "source": [
      "Citations"
     ]
    },
    {
     "cell_type": "markdown",
     "metadata": {},
     "source": [
      "https://www.mpnl.seas.gwu.edu/index.php/research/modeling-and-simulation/9-particle-in-cell\n",
      "\n",
      "Birdsall, C.K. and Langdon, A.B., Plasma Physics via computer simulation, 1985\n",
      "\n",
      "Wikipedia contributors. \"Maxwell's equations.\" Wikipedia, The Free Encyclopedia. Wikipedia, The Free Encyclopedia, 25 Nov. 2014. Web. 26 Nov. 2014."
     ]
    },
    {
     "cell_type": "code",
     "collapsed": false,
     "input": [
      "from IPython.core.display import HTML\n",
      "css_file = '../styles/numericalmoocstyle.css'\n",
      "HTML(open(css_file, \"r\").read())"
     ],
     "language": "python",
     "metadata": {},
     "outputs": [
      {
       "html": [
        "<link href='http://fonts.googleapis.com/css?family=Alegreya+Sans:100,300,400,500,700,800,900,100italic,300italic,400italic,500italic,700italic,800italic,900italic' rel='stylesheet' type='text/css'>\n",
        "<link href='http://fonts.googleapis.com/css?family=Arvo:400,700,400italic' rel='stylesheet' type='text/css'>\n",
        "<link href='http://fonts.googleapis.com/css?family=PT+Mono' rel='stylesheet' type='text/css'>\n",
        "<link href='http://fonts.googleapis.com/css?family=Shadows+Into+Light' rel='stylesheet' type='text/css'>\n",
        "<link href='http://fonts.googleapis.com/css?family=Nixie+One' rel='stylesheet' type='text/css'>\n",
        "<style>\n",
        "\n",
        "@font-face {\n",
        "    font-family: \"Computer Modern\";\n",
        "    src: url('http://mirrors.ctan.org/fonts/cm-unicode/fonts/otf/cmunss.otf');\n",
        "}\n",
        "\n",
        "#notebook_panel { /* main background */\n",
        "    background: rgb(245,245,245);\n",
        "}\n",
        "\n",
        "div.cell { /* set cell width */\n",
        "    width: 750px;\n",
        "}\n",
        "\n",
        "div #notebook { /* centre the content */\n",
        "    background: #fff; /* white background for content */\n",
        "    width: 1000px;\n",
        "    margin: auto;\n",
        "    padding-left: 0em;\n",
        "}\n",
        "\n",
        "#notebook li { /* More space between bullet points */\n",
        "margin-top:0.8em;\n",
        "}\n",
        "\n",
        "/* draw border around running cells */\n",
        "div.cell.border-box-sizing.code_cell.running { \n",
        "    border: 1px solid #111;\n",
        "}\n",
        "\n",
        "/* Put a solid color box around each cell and its output, visually linking them*/\n",
        "div.cell.code_cell {\n",
        "    background-color: rgb(256,256,256); \n",
        "    border-radius: 0px; \n",
        "    padding: 0.5em;\n",
        "    margin-left:1em;\n",
        "    margin-top: 1em;\n",
        "}\n",
        "\n",
        "div.text_cell_render{\n",
        "    font-family: 'Alegreya Sans' sans-serif;\n",
        "    line-height: 140%;\n",
        "    font-size: 125%;\n",
        "    font-weight: 400;\n",
        "    width:600px;\n",
        "    margin-left:auto;\n",
        "    margin-right:auto;\n",
        "}\n",
        "\n",
        "\n",
        "/* Formatting for header cells */\n",
        ".text_cell_render h1 {\n",
        "    font-family: 'Nixie One', serif;\n",
        "    font-style:regular;\n",
        "    font-weight: 400;    \n",
        "    font-size: 45pt;\n",
        "    line-height: 100%;\n",
        "    color: rgb(0,51,102);\n",
        "    margin-bottom: 0.5em;\n",
        "    margin-top: 0.5em;\n",
        "    display: block;\n",
        "}\t\n",
        ".text_cell_render h2 {\n",
        "    font-family: 'Nixie One', serif;\n",
        "    font-weight: 400;\n",
        "    font-size: 30pt;\n",
        "    line-height: 100%;\n",
        "    color: rgb(0,51,102);\n",
        "    margin-bottom: 0.1em;\n",
        "    margin-top: 0.3em;\n",
        "    display: block;\n",
        "}\t\n",
        "\n",
        ".text_cell_render h3 {\n",
        "    font-family: 'Nixie One', serif;\n",
        "    margin-top:16px;\n",
        "\tfont-size: 22pt;\n",
        "    font-weight: 600;\n",
        "    margin-bottom: 3px;\n",
        "    font-style: regular;\n",
        "    color: rgb(102,102,0);\n",
        "}\n",
        "\n",
        ".text_cell_render h4 {    /*Use this for captions*/\n",
        "    font-family: 'Nixie One', serif;\n",
        "    font-size: 14pt;\n",
        "    text-align: center;\n",
        "    margin-top: 0em;\n",
        "    margin-bottom: 2em;\n",
        "    font-style: regular;\n",
        "}\n",
        "\n",
        ".text_cell_render h5 {  /*Use this for small titles*/\n",
        "    font-family: 'Nixie One', sans-serif;\n",
        "    font-weight: 400;\n",
        "    font-size: 16pt;\n",
        "    color: rgb(163,0,0);\n",
        "    font-style: italic;\n",
        "    margin-bottom: .1em;\n",
        "    margin-top: 0.8em;\n",
        "    display: block;\n",
        "}\n",
        "\n",
        ".text_cell_render h6 { /*use this for copyright note*/\n",
        "    font-family: 'PT Mono', sans-serif;\n",
        "    font-weight: 300;\n",
        "    font-size: 9pt;\n",
        "    line-height: 100%;\n",
        "    color: grey;\n",
        "    margin-bottom: 1px;\n",
        "    margin-top: 1px;\n",
        "}\n",
        "\n",
        ".CodeMirror{\n",
        "        font-family: \"PT Mono\";\n",
        "        font-size: 90%;\n",
        "}\n",
        "\n",
        "</style>\n",
        "<script>\n",
        "    MathJax.Hub.Config({\n",
        "                        TeX: {\n",
        "                           extensions: [\"AMSmath.js\"],\n",
        "                           equationNumbers: { autoNumber: \"AMS\", useLabelIds: true}\n",
        "                           },\n",
        "                tex2jax: {\n",
        "                    inlineMath: [ ['$','$'], [\"\\\\(\",\"\\\\)\"] ],\n",
        "                    displayMath: [ ['$$','$$'], [\"\\\\[\",\"\\\\]\"] ]\n",
        "                },\n",
        "                displayAlign: 'center', // Change this to 'center' to center equations.\n",
        "                \"HTML-CSS\": {\n",
        "                    styles: {'.MathJax_Display': {\"margin\": 4}}\n",
        "                }\n",
        "        });\n",
        "</script>\n"
       ],
       "metadata": {},
       "output_type": "pyout",
       "prompt_number": 5,
       "text": [
        "<IPython.core.display.HTML at 0x40e78d0>"
       ]
      }
     ],
     "prompt_number": 5
    }
   ],
   "metadata": {}
  }
 ]
}