{
 "metadata": {
  "name": "",
  "signature": "sha256:64812601b90aba50c8924f2ea9e9db523e6dcd70c09b5c282de6fca2c5146434"
 },
 "nbformat": 3,
 "nbformat_minor": 0,
 "worksheets": [
  {
   "cells": [
    {
     "cell_type": "heading",
     "level": 5,
     "metadata": {},
     "source": [
      "Bonus Notebook:"
     ]
    },
    {
     "cell_type": "heading",
     "level": 1,
     "metadata": {},
     "source": [
      "Particle-In-Cell Plasma Sim"
     ]
    },
    {
     "cell_type": "markdown",
     "metadata": {},
     "source": [
      "Hello, and welcome back! Today we will be diving headfirst into a mind-bending application of the material covered throughout modules 1-4. Before we begin, a caveat: the simulation that we are going to create will not be a <i>fully-adaptive</i> PIC setup; for the sake of time (and not to spoil your possible thesis!) we will be making a number of simplifying assumptions. But more on all of this later, for now, let's get acquainted with the problem."
     ]
    },
    {
     "cell_type": "markdown",
     "metadata": {},
     "source": [
      "In the field of Plasma Physics, there are a number of incredibly complex phsyical interactions which, to be truthful, aren't fully explained (or, at the very least understood) by modern theories. Because of this, a number of situations arise where visualizing the reaction of particles in a plasma to various stimuli can be difficult, and at worst completely counter-intuitive! This is where the importance of simulations is revealed: in helping modern science process and interpret exactly <i>what the physics says should happen</i> . After all, how can we confirm our results if we can't compare them to anything?"
     ]
    },
    {
     "cell_type": "markdown",
     "metadata": {},
     "source": [
      "A common method for simulating the motion of particles is the aptly-named \"Particle in Cell\" (PIC) technique, which uses a macro-particle focus on a discrete grid to calculate the problem variables. Because plasma is made up of a mixture of ions, electrons, and neutrals, it is easiest to model the reaction of each species to the specific situation being studied. In most cases, the consideration of magnetic or electric fields can complicate the calculations involved. These fields not only set the particles in motion due to their varied charge (effecting the velocities), but they also vary in strength with the location of each particle within a volume (the particles effect the fields in turn). See now why we can't just ignore the field equations? That's where all of the <b>interesting</b> physics happens! Before getting too bogged down in the minutia of the problem, the first step is to start simple."
     ]
    },
    {
     "cell_type": "heading",
     "level": 2,
     "metadata": {},
     "source": [
      "The Fundemental Physics"
     ]
    },
    {
     "cell_type": "markdown",
     "metadata": {},
     "source": [
      "In order to calculate the motion of particles in our test volume, we need to know the equation governing their motion! This is where the all-important <i>Lorentz Force</i> comes into play:"
     ]
    },
    {
     "cell_type": "markdown",
     "metadata": {},
     "source": [
      "\\begin{align} \\vec{\\mathbf{F}} =\\, q (\\vec{E} + \\vec{v} \\times \\vec{B}) \\end{align}"
     ]
    },
    {
     "cell_type": "markdown",
     "metadata": {},
     "source": [
      "Woah, hey, no one said anything about linear algebra coming in here! Don't let the thought of having to do it by hand intimidate you, that's just what the equations want! Ignoring the cross produt for now (we'll use some awesome scipy built-ins to take care of our linear algebra woes), we see that the electric and magnetic fields both need to be known before we try to move our particles! Well that's useful, but unless you happen to have any relationships hiding in your pocket, this is just a fancy equation that we can't use. Well, as it happens, we do have a couple more from basic physics! First, according to kinematics and Newton's Second Law:"
     ]
    },
    {
     "cell_type": "markdown",
     "metadata": {},
     "source": [
      "\\begin{align}\n",
      "\\frac{d{\\vec{x}}}{d{t}} =\\, \\vec{v} \\\\\n",
      "\\vec{F} =\\, ma\n",
      "\\end{align}"
     ]
    },
    {
     "cell_type": "markdown",
     "metadata": {},
     "source": [
      "We're all aware of these relations. Now, let's rearrange Newton's Second Law for acceleration, and then replace $\\vec{F}$ with the force from a static electric field: "
     ]
    },
    {
     "cell_type": "markdown",
     "metadata": {},
     "source": [
      "\\begin{align}\n",
      "\\frac{d{\\vec{v}}}{d{t}} =\\, \\frac{q}{m}\\vec{E} \\\\\n",
      "\\end{align}"
     ]
    },
    {
     "cell_type": "markdown",
     "metadata": {},
     "source": [
      "where <i>q</i> is the charge of a given particle, and <i>m</i> is the given mass of the particle adjusted for the charge (i.e. with the mass of an electron missing for the positively charged ion). Now we've got something we can use...how about a relationship to calculate $\\vec{E}$? From the definition of the electric potential ($\\phi$) and charge density ($\\rho$):"
     ]
    },
    {
     "cell_type": "markdown",
     "metadata": {},
     "source": [
      "\\begin{align}\n",
      "\\vec{E} =\\, -\\nabla \\phi \\\\\n",
      "\\nabla^2 \\phi =\\, \\frac{\\rho}{\\epsilon _0} \\\\\n",
      "\\rho =\\, e (Z_i n_i - n_e)\n",
      "\\end{align}"
     ]
    },
    {
     "cell_type": "markdown",
     "metadata": {},
     "source": [
      "Now it looks like we have enough to start looking at how to actually <i>solve</i> a problem! In this case, <i>$Z_i$</i> is the average charge value of the ion, <i>e</i> is the charge of an electron, <i>$n_i$</i> is the number density of the ions (i.e. the number of ions per unit length), and similarly <i>$n_e$</i> is the electron number density. With all these equations in mind, it's <i>finally</i> time to start approaching the problem. "
     ]
    },
    {
     "cell_type": "heading",
     "level": 2,
     "metadata": {},
     "source": [
      "Problem Statement"
     ]
    },
    {
     "cell_type": "markdown",
     "metadata": {},
     "source": [
      "Let's consider a group of particles consisting of half electrons, and the other half Helium ions ($He^+$). We'll say that the electrons should be given an initial velocity that is randomly generated on the order of $10^3 \\frac{m}{s}$, and the larger ions are given a similarly random intial velocity of ~$10^5 \\frac{m}{s}$. These particles are subjected constantly to <i>both</i> $\\vec{E}$ and $\\vec{B}$ fields in different directions. We wish to simulate their motion in the fields for 100 time steps. Listing the conditions for reference:"
     ]
    },
    {
     "cell_type": "markdown",
     "metadata": {},
     "source": [
      "\\begin{align}\n",
      "\\vec{E} =\\, -\\nabla \\phi \\\\\n",
      "\\nabla^2 \\phi =\\, \\frac{\\rho}{\\epsilon _0} \\\\\n",
      "\\rho =\\, e (Z_i n_i - n_e)\n",
      "\\end{align}"
     ]
    },
    {
     "cell_type": "heading",
     "level": 2,
     "metadata": {},
     "source": [
      "Citations"
     ]
    },
    {
     "cell_type": "markdown",
     "metadata": {},
     "source": [
      "1 Wikipedia contributors. \"Maxwell's equations.\" Wikipedia, The Free Encyclopedia. Wikipedia, The Free Encyclopedia, 25 Nov. 2014. Web. 26 Nov. 2014."
     ]
    },
    {
     "cell_type": "code",
     "collapsed": false,
     "input": [
      "from IPython.core.display import HTML\n",
      "css_file = '../styles/numericalmoocstyle.css'\n",
      "HTML(open(css_file, \"r\").read())"
     ],
     "language": "python",
     "metadata": {},
     "outputs": [
      {
       "html": [
        "<link href='http://fonts.googleapis.com/css?family=Alegreya+Sans:100,300,400,500,700,800,900,100italic,300italic,400italic,500italic,700italic,800italic,900italic' rel='stylesheet' type='text/css'>\n",
        "<link href='http://fonts.googleapis.com/css?family=Arvo:400,700,400italic' rel='stylesheet' type='text/css'>\n",
        "<link href='http://fonts.googleapis.com/css?family=PT+Mono' rel='stylesheet' type='text/css'>\n",
        "<link href='http://fonts.googleapis.com/css?family=Shadows+Into+Light' rel='stylesheet' type='text/css'>\n",
        "<link href='http://fonts.googleapis.com/css?family=Nixie+One' rel='stylesheet' type='text/css'>\n",
        "<style>\n",
        "\n",
        "@font-face {\n",
        "    font-family: \"Computer Modern\";\n",
        "    src: url('http://mirrors.ctan.org/fonts/cm-unicode/fonts/otf/cmunss.otf');\n",
        "}\n",
        "\n",
        "#notebook_panel { /* main background */\n",
        "    background: rgb(245,245,245);\n",
        "}\n",
        "\n",
        "div.cell { /* set cell width */\n",
        "    width: 750px;\n",
        "}\n",
        "\n",
        "div #notebook { /* centre the content */\n",
        "    background: #fff; /* white background for content */\n",
        "    width: 1000px;\n",
        "    margin: auto;\n",
        "    padding-left: 0em;\n",
        "}\n",
        "\n",
        "#notebook li { /* More space between bullet points */\n",
        "margin-top:0.8em;\n",
        "}\n",
        "\n",
        "/* draw border around running cells */\n",
        "div.cell.border-box-sizing.code_cell.running { \n",
        "    border: 1px solid #111;\n",
        "}\n",
        "\n",
        "/* Put a solid color box around each cell and its output, visually linking them*/\n",
        "div.cell.code_cell {\n",
        "    background-color: rgb(256,256,256); \n",
        "    border-radius: 0px; \n",
        "    padding: 0.5em;\n",
        "    margin-left:1em;\n",
        "    margin-top: 1em;\n",
        "}\n",
        "\n",
        "div.text_cell_render{\n",
        "    font-family: 'Alegreya Sans' sans-serif;\n",
        "    line-height: 140%;\n",
        "    font-size: 125%;\n",
        "    font-weight: 400;\n",
        "    width:600px;\n",
        "    margin-left:auto;\n",
        "    margin-right:auto;\n",
        "}\n",
        "\n",
        "\n",
        "/* Formatting for header cells */\n",
        ".text_cell_render h1 {\n",
        "    font-family: 'Nixie One', serif;\n",
        "    font-style:regular;\n",
        "    font-weight: 400;    \n",
        "    font-size: 45pt;\n",
        "    line-height: 100%;\n",
        "    color: rgb(0,51,102);\n",
        "    margin-bottom: 0.5em;\n",
        "    margin-top: 0.5em;\n",
        "    display: block;\n",
        "}\t\n",
        ".text_cell_render h2 {\n",
        "    font-family: 'Nixie One', serif;\n",
        "    font-weight: 400;\n",
        "    font-size: 30pt;\n",
        "    line-height: 100%;\n",
        "    color: rgb(0,51,102);\n",
        "    margin-bottom: 0.1em;\n",
        "    margin-top: 0.3em;\n",
        "    display: block;\n",
        "}\t\n",
        "\n",
        ".text_cell_render h3 {\n",
        "    font-family: 'Nixie One', serif;\n",
        "    margin-top:16px;\n",
        "\tfont-size: 22pt;\n",
        "    font-weight: 600;\n",
        "    margin-bottom: 3px;\n",
        "    font-style: regular;\n",
        "    color: rgb(102,102,0);\n",
        "}\n",
        "\n",
        ".text_cell_render h4 {    /*Use this for captions*/\n",
        "    font-family: 'Nixie One', serif;\n",
        "    font-size: 14pt;\n",
        "    text-align: center;\n",
        "    margin-top: 0em;\n",
        "    margin-bottom: 2em;\n",
        "    font-style: regular;\n",
        "}\n",
        "\n",
        ".text_cell_render h5 {  /*Use this for small titles*/\n",
        "    font-family: 'Nixie One', sans-serif;\n",
        "    font-weight: 400;\n",
        "    font-size: 16pt;\n",
        "    color: rgb(163,0,0);\n",
        "    font-style: italic;\n",
        "    margin-bottom: .1em;\n",
        "    margin-top: 0.8em;\n",
        "    display: block;\n",
        "}\n",
        "\n",
        ".text_cell_render h6 { /*use this for copyright note*/\n",
        "    font-family: 'PT Mono', sans-serif;\n",
        "    font-weight: 300;\n",
        "    font-size: 9pt;\n",
        "    line-height: 100%;\n",
        "    color: grey;\n",
        "    margin-bottom: 1px;\n",
        "    margin-top: 1px;\n",
        "}\n",
        "\n",
        ".CodeMirror{\n",
        "        font-family: \"PT Mono\";\n",
        "        font-size: 90%;\n",
        "}\n",
        "\n",
        "</style>\n",
        "<script>\n",
        "    MathJax.Hub.Config({\n",
        "                        TeX: {\n",
        "                           extensions: [\"AMSmath.js\"],\n",
        "                           equationNumbers: { autoNumber: \"AMS\", useLabelIds: true}\n",
        "                           },\n",
        "                tex2jax: {\n",
        "                    inlineMath: [ ['$','$'], [\"\\\\(\",\"\\\\)\"] ],\n",
        "                    displayMath: [ ['$$','$$'], [\"\\\\[\",\"\\\\]\"] ]\n",
        "                },\n",
        "                displayAlign: 'center', // Change this to 'center' to center equations.\n",
        "                \"HTML-CSS\": {\n",
        "                    styles: {'.MathJax_Display': {\"margin\": 4}}\n",
        "                }\n",
        "        });\n",
        "</script>\n"
       ],
       "metadata": {},
       "output_type": "pyout",
       "prompt_number": 5,
       "text": [
        "<IPython.core.display.HTML at 0x40e78d0>"
       ]
      }
     ],
     "prompt_number": 5
    }
   ],
   "metadata": {}
  }
 ]
}